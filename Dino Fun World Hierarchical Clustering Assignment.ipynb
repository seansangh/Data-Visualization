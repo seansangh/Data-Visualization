{
 "cells": [
  {
   "cell_type": "code",
   "execution_count": null,
   "id": "75cd8b12",
   "metadata": {},
   "outputs": [],
   "source": [
    "import matplotlib.pyplot as plt\n",
    "import numpy as np\n",
    "from scipy.cluster.hierarchy import linkage, dendrogram\n",
    "import pandas as pd\n",
    "import sqlite3\n",
    "%matplotlib inline\n",
    "\n",
    "db_filename = 'dinofunworld.db'"
   ]
  },
  {
   "cell_type": "code",
   "execution_count": null,
   "id": "c5f0d783",
   "metadata": {},
   "outputs": [],
   "source": [
    "### TEST FUNCTION: test_question1\n",
    "# DO NOT MODIFY OR REMOVE THE ABOVE LINE\n",
    "# your code here\n",
    "conn = sqlite3.connect(db_filename)\n",
    "c = conn.cursor()\n",
    "\n",
    "c.execute(\"SELECT visitorID, sequence FROM sequences where visitorID IN (448990, 165316, 1835254, 296394, 404385)\")\n",
    "s= c.fetchall()\n",
    "#print(s)\n",
    "sval= pd.DataFrame.from_records(s, columns=['visitorID', 'sequence'])\n",
    "#print(sval)\n",
    "sval['sequences']= sval['sequence'].apply(lambda y: [int(x) for x in y.split(\"-\")])\n",
    "#print(sval['sequences'])\n",
    "matr= np.matrix(sval['sequences'].values.tolist())\n",
    "\n",
    "'''\n",
    "seq=[]\n",
    "for x in range(len(s)):\n",
    "    location= s[x][1].split('-')\n",
    "    seq.append(location) \n",
    "#print(len(seq[3]))\n",
    "distMatrix={}\n",
    "\n",
    "for y in range(len(s)):\n",
    "    distMatrix[s[y][0]]={}\n",
    "    for z in range(len(s)):\n",
    "        num=0\n",
    "        if y != z:\n",
    "            for n in range(len(seq[0])):\n",
    "                if seq[y][n] != seq[z][n]:\n",
    "                    num = num +1\n",
    "            distMatrix[s[y][0]][s[z][0]]= num\n",
    "    \n",
    "print(distMatrix)\n",
    "'''\n",
    "\n",
    "\n",
    "# Perform clustering \n",
    "links= linkage(matr, 'average')\n",
    "\n",
    "# Render and show the resulting dendrogram\n",
    "dendrogram(links, labels=sval['visitorID'].values.tolist())\n",
    "plt.xlabel(\"Visitor ID\")\n",
    "plt.ylabel(\"Distance\")\n",
    "plt.title(\"Dendrogram of Trajectories of 5 Visitors to the Park\")\n",
    "plt.show()"
   ]
  }
 ],
 "metadata": {
  "kernelspec": {
   "display_name": "Python 3 (ipykernel)",
   "language": "python",
   "name": "python3"
  },
  "language_info": {
   "codemirror_mode": {
    "name": "ipython",
    "version": 3
   },
   "file_extension": ".py",
   "mimetype": "text/x-python",
   "name": "python",
   "nbconvert_exporter": "python",
   "pygments_lexer": "ipython3",
   "version": "3.11.5"
  }
 },
 "nbformat": 4,
 "nbformat_minor": 5
}
