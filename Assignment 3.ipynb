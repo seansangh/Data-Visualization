{
 "cells": [
  {
   "cell_type": "code",
   "execution_count": 23,
   "id": "6074252d",
   "metadata": {},
   "outputs": [],
   "source": [
    "import sqlite3\n",
    "import pandas as pd\n",
    "import matplotlib.pyplot as plt\n",
    "%matplotlib inline\n",
    "\n",
    "db_filename='dinofunworld.db'\n",
    "conn= sqlite3.connect(db_filename)\n",
    "c= conn.cursor()"
   ]
  },
  {
   "cell_type": "code",
   "execution_count": 24,
   "id": "69d52f03",
   "metadata": {},
   "outputs": [
    {
     "name": "stdout",
     "output_type": "stream",
     "text": [
      "{165316: {296394: 318, 404385: 329, 448990: 318, 1835254: 336}, 296394: {165316: 318, 404385: 303, 448990: 0, 1835254: 282}, 404385: {165316: 329, 296394: 303, 448990: 303, 1835254: 298}, 448990: {165316: 318, 296394: 0, 404385: 303, 1835254: 282}, 1835254: {165316: 336, 296394: 282, 404385: 298, 448990: 282}}\n"
     ]
    }
   ],
   "source": [
    "c.execute(\"SELECT visitorID, sequence FROM sequences WHERE visitorID IN (165316, 1835254, 296394, 404385, 448990)\")\n",
    "m=c.fetchall()\n",
    "#print(m[0])\n",
    "\n",
    "seq=[]\n",
    "\n",
    "for x in range(len(m)):\n",
    "    location= m[x][1].split('-')\n",
    "    seq.append(location) \n",
    "#print(len(seq[3]))\n",
    "\n",
    "distMatrix={}\n",
    "\n",
    "for y in range(len(m)):\n",
    "    distMatrix[m[y][0]]={}\n",
    "    for z in range(len(m)):\n",
    "        num=0\n",
    "        if m[y][0] != m[z][0]:\n",
    "            for n in range(len(seq[0])):\n",
    "                if seq[y][n] != seq[z][n]:\n",
    "                    num = num +1\n",
    "            distMatrix[m[y][0]][m[z][0]]= num\n",
    "    \n",
    "print(distMatrix)\n",
    "\n",
    "#165316, 1835254, 296394, 404385, and 448990"
   ]
  },
  {
   "cell_type": "code",
   "execution_count": 21,
   "id": "dc72df7e",
   "metadata": {},
   "outputs": [
    {
     "name": "stdout",
     "output_type": "stream",
     "text": [
      "{165316: {296394: 318, 404385: 329, 448990: 318, 1835254: 336}, 296394: {165316: 318, 404385: 303, 448990: 0, 1835254: 282}, 404385: {165316: 329, 296394: 303, 448990: 303, 1835254: 298}, 448990: {165316: 318, 296394: 0, 404385: 303, 1835254: 282}, 1835254: {165316: 336, 296394: 282, 404385: 298, 448990: 282}}\n"
     ]
    }
   ],
   "source": [
    "c.execute(\"SELECT name, AttractionID FROM attraction WHERE Category IN('Thrill Rides\\r','Kiddie Rides\\r', 'Rides for Everyone\\r')\")\n",
    "m=c.fetchall()\n",
    "#print(m) #Thrill Rides\\r, Kiddie Rides\\r Rides for Everyone\\r\n",
    "\n",
    "myList=[]\n",
    "attendanceDict={}\n",
    "myDict2={}\n",
    "\n",
    "for x in range(len(m)):              #runs for each applicable attraction \n",
    "    c.execute(\"SELECT sequence FROM sequences WHERE sequence LIKE '%-\" + str(m[x][1]) + \"-%'\")\n",
    "    n=c.fetchall()\n",
    "    #gets all records where AttractionID is present in sequence (table that shows all AttractionIDs visited)\n",
    "    n1=len(n[0][0].split('-')) #576\n",
    "\n",
    "    for y in range(len(n)):   #iterates through each element of the sequence\n",
    "        val=n[y][0].split('-')  #gets a sequence and splits it into a list\n",
    "        for z in range(n1):\n",
    "            if val[z]==str(m[x][1]):   #if the value == the AttractionID\n",
    "                myList.append(z)       #adds position of value to a list\n",
    "               \n",
    "    for va in myList:                 #goes through list with positions\n",
    "        if va in attendanceDict:      #if position is in dict for AttractionID add 1\n",
    "            attendanceDict[va]+=1\n",
    "        else:\n",
    "            attendanceDict[va]=1      #if position isn't in dict with AttractionID add it with 1\n",
    "    myList=[]                         #empties List\n",
    " \n",
    "    myDict={}\n",
    "    myDict=sorted(attendanceDict.items())   #sorts dict with attendance values by items\n",
    "    attendanceDict= {}                  #clears the attendance dict\n",
    "    #print(attendanceDict)\n",
    "    \n",
    "    result = [list(p) for p in myDict]       #creates of list with dict values\n",
    "    myDict= {}                           #empties dict\n",
    "\n",
    "    maximu=0\n",
    "    minimu=999999\n",
    "    tot=0\n",
    "    for i in range(len(result)):            #goes through each element of list with dict values\n",
    "        if result[i][1]>maximu:             #sets highest value to maxima\n",
    "            maximu=result[i][1]\n",
    "        \n",
    "        if result[i][1]<minimu:             #sets lowest value to minima\n",
    "            minimu=result[i][1]\n",
    "        \n",
    "        tot=tot+result[i][1]\n",
    "    \n",
    "    average=tot/n1                          #calculates the average based on total #s\n",
    "    result= []\n",
    "    resultDict={\"min\":minimu,\"avg\":average,\"max\":maximu}\n",
    "    myDict2[m[x][0]]=resultDict             #creates a dict with min, avg, max for AttractionID\n",
    "\n",
    "    \n",
    "myData = pd.DataFrame.from_dict(myDict2, orient='index')\n",
    "myData = myData.reset_index()\n",
    "myData.columns = ['ride' if x=='index' else x for x in myData.columns]\n",
    "pd.plotting.parallel_coordinates(myData, 'ride')\n",
    "plt.legend(loc=\"lower center\", bbox_to_anchor=(1.75,0.1), ncol=3)\n",
    "plt.title('Ride Attendance - Minimum, Maximum, Average')\n",
    "plt.ylabel('Attendance')\n",
    "plt.show()\n",
    "print(myDict)"
   ]
  },
  {
   "cell_type": "code",
   "execution_count": 4,
   "id": "59cac2ac",
   "metadata": {},
   "outputs": [
    {
     "name": "stdout",
     "output_type": "stream",
     "text": [
      "Unexpected exception formatting exception. Falling back to standard exception\n"
     ]
    },
    {
     "name": "stderr",
     "output_type": "stream",
     "text": [
      "Traceback (most recent call last):\n",
      "  File \"C:\\Users\\15713\\anaconda3\\Lib\\site-packages\\IPython\\core\\interactiveshell.py\", line 3526, in run_code\n",
      "    exec(code_obj, self.user_global_ns, self.user_ns)\n",
      "  File \"C:\\Users\\15713\\AppData\\Local\\Temp\\ipykernel_27004\\2621736245.py\", line -1, in <module>\n",
      "KeyboardInterrupt\n",
      "\n",
      "During handling of the above exception, another exception occurred:\n",
      "\n",
      "Traceback (most recent call last):\n",
      "  File \"C:\\Users\\15713\\anaconda3\\Lib\\site-packages\\IPython\\core\\interactiveshell.py\", line 2120, in showtraceback\n",
      "    stb = self.InteractiveTB.structured_traceback(\n",
      "          ^^^^^^^^^^^^^^^^^^^^^^^^^^^^^^^^^^^^^^^^\n",
      "  File \"C:\\Users\\15713\\anaconda3\\Lib\\site-packages\\IPython\\core\\ultratb.py\", line 1435, in structured_traceback\n",
      "    return FormattedTB.structured_traceback(\n",
      "           ^^^^^^^^^^^^^^^^^^^^^^^^^^^^^^^^^\n",
      "  File \"C:\\Users\\15713\\anaconda3\\Lib\\site-packages\\IPython\\core\\ultratb.py\", line 1326, in structured_traceback\n",
      "    return VerboseTB.structured_traceback(\n",
      "           ^^^^^^^^^^^^^^^^^^^^^^^^^^^^^^^\n",
      "  File \"C:\\Users\\15713\\anaconda3\\Lib\\site-packages\\IPython\\core\\ultratb.py\", line 1173, in structured_traceback\n",
      "    formatted_exception = self.format_exception_as_a_whole(etype, evalue, etb, number_of_lines_of_context,\n",
      "                          ^^^^^^^^^^^^^^^^^^^^^^^^^^^^^^^^^^^^^^^^^^^^^^^^^^^^^^^^^^^^^^^^^^^^^^^^^^^^^^^^\n",
      "  File \"C:\\Users\\15713\\anaconda3\\Lib\\site-packages\\IPython\\core\\ultratb.py\", line 1088, in format_exception_as_a_whole\n",
      "    frames.append(self.format_record(record))\n",
      "                  ^^^^^^^^^^^^^^^^^^^^^^^^^^\n",
      "  File \"C:\\Users\\15713\\anaconda3\\Lib\\site-packages\\IPython\\core\\ultratb.py\", line 970, in format_record\n",
      "    frame_info.lines, Colors, self.has_colors, lvals\n",
      "    ^^^^^^^^^^^^^^^^\n",
      "  File \"C:\\Users\\15713\\anaconda3\\Lib\\site-packages\\IPython\\core\\ultratb.py\", line 792, in lines\n",
      "    return self._sd.lines\n",
      "           ^^^^^^^^^^^^^^\n",
      "  File \"C:\\Users\\15713\\anaconda3\\Lib\\site-packages\\stack_data\\utils.py\", line 145, in cached_property_wrapper\n",
      "    value = obj.__dict__[self.func.__name__] = self.func(obj)\n",
      "                                               ^^^^^^^^^^^^^^\n",
      "  File \"C:\\Users\\15713\\anaconda3\\Lib\\site-packages\\stack_data\\core.py\", line 698, in lines\n",
      "    pieces = self.included_pieces\n",
      "             ^^^^^^^^^^^^^^^^^^^^\n",
      "  File \"C:\\Users\\15713\\anaconda3\\Lib\\site-packages\\stack_data\\utils.py\", line 145, in cached_property_wrapper\n",
      "    value = obj.__dict__[self.func.__name__] = self.func(obj)\n",
      "                                               ^^^^^^^^^^^^^^\n",
      "  File \"C:\\Users\\15713\\anaconda3\\Lib\\site-packages\\stack_data\\core.py\", line 649, in included_pieces\n",
      "    pos = scope_pieces.index(self.executing_piece)\n",
      "                             ^^^^^^^^^^^^^^^^^^^^\n",
      "  File \"C:\\Users\\15713\\anaconda3\\Lib\\site-packages\\stack_data\\utils.py\", line 145, in cached_property_wrapper\n",
      "    value = obj.__dict__[self.func.__name__] = self.func(obj)\n",
      "                                               ^^^^^^^^^^^^^^\n",
      "  File \"C:\\Users\\15713\\anaconda3\\Lib\\site-packages\\stack_data\\core.py\", line 628, in executing_piece\n",
      "    return only(\n",
      "           ^^^^^\n",
      "  File \"C:\\Users\\15713\\anaconda3\\Lib\\site-packages\\executing\\executing.py\", line 164, in only\n",
      "    raise NotOneValueFound('Expected one value, found 0')\n",
      "executing.executing.NotOneValueFound: Expected one value, found 0\n"
     ]
    }
   ],
   "source": [
    "pd.plotting.scatter_matrix(myData, alpha=0.5)\n",
    "plt.suptitle(\"Scatterplot Matrix - Minimum, Maximum, Average Attendance\")\n",
    "plt.show()\n",
    "print(myDict2)"
   ]
  },
  {
   "cell_type": "code",
   "execution_count": null,
   "id": "e20dc1f7",
   "metadata": {},
   "outputs": [],
   "source": []
  }
 ],
 "metadata": {
  "kernelspec": {
   "display_name": "Python 3 (ipykernel)",
   "language": "python",
   "name": "python3"
  },
  "language_info": {
   "codemirror_mode": {
    "name": "ipython",
    "version": 3
   },
   "file_extension": ".py",
   "mimetype": "text/x-python",
   "name": "python",
   "nbconvert_exporter": "python",
   "pygments_lexer": "ipython3",
   "version": "3.11.5"
  }
 },
 "nbformat": 4,
 "nbformat_minor": 5
}
