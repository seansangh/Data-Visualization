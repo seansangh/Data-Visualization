{
 "cells": [
  {
   "cell_type": "code",
   "execution_count": 1,
   "id": "2e0fc440",
   "metadata": {},
   "outputs": [],
   "source": [
    "import sqlite3\n",
    "import pandas as pd\n",
    "import numpy as np\n",
    "import matplotlib.pyplot as plt\n",
    "%matplotlib inline\n",
    "\n",
    "db_filename='dinofunworld.db'\n",
    "conn= sqlite3.connect(db_filename)\n",
    "c= conn.cursor()"
   ]
  },
  {
   "cell_type": "code",
   "execution_count": null,
   "id": "288ce296",
   "metadata": {},
   "outputs": [],
   "source": [
    "c.execute(\"SELECT AttractionID, Name FROM attraction WHERE Name ='Atmosfear'\")\n",
    "m=c.fetchone()\n",
    "#m[0] is the AttractionID\n",
    "\n",
    "c.execute(\"SELECT visitorID, sequence FROM sequences WHERE sequence LIKE '%-\"+str(m[0])+\"-%' \")\n",
    "s=c.fetchall()\n",
    "\n",
    "#print(len(s)) #9356\n",
    "\n",
    "\n",
    "myArr=[] #numeric time at ride\n",
    "myDict={} #dict of times with # at ride\n",
    "\n",
    "for x in range(len(s)):\n",
    "    for y in range(int(len(s[x][1].split('-')))):\n",
    "        if s[x][1].split('-')[y]==m[0]:\n",
    "            myArr.append(y)\n",
    "\n",
    "for x in myArr:\n",
    "    if x in myDict:\n",
    "        myDict[x]=myDict[x]+1\n",
    "    else:\n",
    "        myDict[x]=1\n",
    "        \n",
    "for y in range(int(len(s[0][1].split('-')))):\n",
    "    if y in myDict:\n",
    "        continue\n",
    "    else:\n",
    "        myDict[y]=0  #adds zero values to myDict\n",
    "        \n",
    "        \n",
    "\n",
    "myDictSort={}\n",
    "myDictSort=sorted(myDict.items())\n",
    "#print (myDictSort)\n",
    "\n",
    "result = [list(ele) for ele in myDictSort] \n",
    "#print(res) \n",
    "att = [i[1] for i in result] \n",
    "std = np.nanstd(att)\n",
    "mean = np.nanmean(att)\n",
    "x_val = range(0, len(att), 1)\n",
    "\n",
    "plt.plot(x_val,[mean+2*std]*len(att),'r-',label='2 SD')\n",
    "plt.plot(x_val,[mean-2*std]*len(att),'r-')\n",
    "plt.plot(x_val,[mean+std]*len(att),'y-',label='SD')\n",
    "plt.plot(x_val,[mean-std]*len(att),'y-')\n",
    "plt.plot(x_val,[mean]*len(att),'g-',label='mean')\n",
    "plt.plot(x_val,att,'b-')\n",
    "plt.legend(loc='upper right',bbox_to_anchor=(1.25,1))\n",
    "plt.ylabel('Attendance')\n",
    "plt.xlabel('Time in minutes')\n",
    "plt.title('Control Chart of attendance at Atmosfear')\n",
    "plt.show()\n",
    "\n",
    "myList=[mean, std] #73.635 for std\n",
    "print(myList)"
   ]
  },
  {
   "cell_type": "code",
   "execution_count": null,
   "id": "88eefc0d",
   "metadata": {},
   "outputs": [],
   "source": [
    "window_size = 50\n",
    "plt.plot(x_val, np.convolve(att, np.ones(window_size,)/window_size, 'same'))\n",
    "plt.xlabel('Time in minutes')\n",
    "plt.ylabel('Attendance')\n",
    "plt.title('Moving Average Chart of attendance at Atmosfear')\n",
    "plt.show()"
   ]
  },
  {
   "cell_type": "code",
   "execution_count": null,
   "id": "a6629e23",
   "metadata": {},
   "outputs": [],
   "source": [
    "df = pd.DataFrame(data=att)\n",
    "df_exp = df.ewm(span=window_size).mean()\n",
    "plt.plot(df_exp)\n",
    "plt.xlabel('Time in minutes')\n",
    "plt.ylabel('Attendance')\n",
    "plt.title('Exponentially Weighted Moving Average Chart of the attendance at Atmosfear')\n",
    "plt.show()"
   ]
  },
  {
   "cell_type": "code",
   "execution_count": 12,
   "id": "0f76a0a8",
   "metadata": {},
   "outputs": [
    {
     "name": "stdout",
     "output_type": "stream",
     "text": [
      "[5, 8]\n"
     ]
    }
   ],
   "source": [
    "mean=5\n",
    "std=8\n",
    "\n",
    "myList=[mean, std]\n",
    "print(myList)"
   ]
  },
  {
   "cell_type": "code",
   "execution_count": null,
   "id": "1e532d14",
   "metadata": {},
   "outputs": [],
   "source": []
  }
 ],
 "metadata": {
  "kernelspec": {
   "display_name": "Python 3 (ipykernel)",
   "language": "python",
   "name": "python3"
  },
  "language_info": {
   "codemirror_mode": {
    "name": "ipython",
    "version": 3
   },
   "file_extension": ".py",
   "mimetype": "text/x-python",
   "name": "python",
   "nbconvert_exporter": "python",
   "pygments_lexer": "ipython3",
   "version": "3.11.5"
  }
 },
 "nbformat": 4,
 "nbformat_minor": 5
}
