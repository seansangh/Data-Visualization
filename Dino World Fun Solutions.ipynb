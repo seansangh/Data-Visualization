{
 "cells": [
  {
   "cell_type": "markdown",
   "id": "5bd6908d",
   "metadata": {},
   "source": [
    "# Dino World Fun Solution"
   ]
  },
  {
   "cell_type": "code",
   "execution_count": 2,
   "id": "6045df3a",
   "metadata": {},
   "outputs": [],
   "source": [
    "import sqlite3\n",
    "\n",
    "db_filename='dinofunworld.db'"
   ]
  },
  {
   "cell_type": "code",
   "execution_count": 3,
   "id": "102435e3",
   "metadata": {},
   "outputs": [
    {
     "name": "stdout",
     "output_type": "stream",
     "text": [
      "Atmosfear\n"
     ]
    }
   ],
   "source": [
    "conn= sqlite3.connect(db_filename)\n",
    "c= conn.cursor()\n",
    "\n",
    "c.execute(\"SELECT attraction FROM checkin GROUP BY attraction ORDER BY COUNT(attraction) DESC LIMIT 1\")\n",
    "m=c.fetchone()\n",
    "#print(m[0])  #prints 8\n",
    "\n",
    "\n",
    "c.execute(\"SELECT Name FROM attraction WHERE AttractionID=8\")\n",
    "m=c.fetchone()\n",
    "print(m[0]) #prints Atmosfear\n"
   ]
  },
  {
   "cell_type": "code",
   "execution_count": 5,
   "id": "236c1d19",
   "metadata": {},
   "outputs": [
    {
     "name": "stdout",
     "output_type": "stream",
     "text": [
      "Flight of the Swingodon\n"
     ]
    }
   ],
   "source": [
    "### TEST FUNCTION: test_question2\n",
    "# DO NOT REMOVE THE LINE ABOVE\n",
    "# your code here\n",
    "c.execute(\"SELECT DISTINCT Category FROM attraction\")\n",
    "m= c.fetchall()\n",
    "#print(m) #'Thrill Rides' 'Kiddie Rides' 'Rides for Everyone\\r'\n",
    "\n",
    "c.execute(\"SELECT attraction,duration FROM checkin\")\n",
    "b= c.fetchall()\n",
    "#print(b)\n",
    "\n",
    "mylist=[]\n",
    "\n",
    "for x in range(len(b)):\n",
    "    if b[x][1]:\n",
    "        atime= b[x][1].split(\":\")\n",
    "        seconds= int(atime[0])*3600 + int(atime[1])*60 + int(atime[2])\n",
    "        newlist=[]\n",
    "        newlist.append(b[x][0])\n",
    "        newlist.append(seconds)\n",
    "        mylist.append(newlist)\n",
    "    \n",
    "#print(mylist)\n",
    "\n",
    "\n",
    "mylist2=[]\n",
    "\n",
    "for x in mylist:\n",
    "    ye=0   \n",
    "    for y in mylist2:\n",
    "        if x[0] == y[0]:\n",
    "            y[1] = y[1] + x[1]\n",
    "            y[2] = y[2] + 1\n",
    "            ye=1\n",
    "    if ye == 0:\n",
    "        mylist2.append([x[0],x[1],1])\n",
    "    ye=0\n",
    "\n",
    "\n",
    "for x in mylist2:\n",
    "    x[1]=round(x[1]/x[2],2)\n",
    "    del x[2]\n",
    "\n",
    "first=0\n",
    "second=0\n",
    "\n",
    "'''\n",
    "for x in mylist2:\n",
    "    if x[0]> first:\n",
    "        first=x[0]\n",
    "    elif x[0]> second:\n",
    "        second=x[0]\n",
    "\n",
    "print(second)\n",
    "'''\n",
    "\n",
    "c.execute(\"SELECT attraction FROM checkin GROUP BY attraction ORDER BY AVG(duration) DESC\")\n",
    "b= c.fetchall()\n",
    "#print(b)\n",
    "\n",
    "c.execute(\"SELECT AttractionID FROM attraction WHERE Category='Thrill Rides\\r' OR Category ='Kiddie Rides\\r' OR Category='Rides for Everyone\\r' \")\n",
    "n= c.fetchall()\n",
    "#print(n) #'Thrill Rides' 'Kiddie Rides' 'Rides for Everyone\\r'\n",
    "\n",
    "for l in range(len(n)):\n",
    "    n[l]= n[l][0]\n",
    "\n",
    "#print(n)\n",
    "ans2=[]\n",
    "\n",
    "for x in mylist2:\n",
    "    if x[0] in n:\n",
    "        ans2.append(x)\n",
    "\n",
    "#print(ans2) #attractionID 81 has the 2nd longest time\n",
    "\n",
    "\n",
    "\n",
    "'''\n",
    "ans=[]\n",
    "for x in range(len(b)):\n",
    "    if b[x] in n:\n",
    "        ans.append(b[x])\n",
    "\n",
    "#print(ans[1])\n",
    "'''\n",
    "\n",
    "c.execute(\"SELECT Name FROM attraction WHERE AttractionID=81\")\n",
    "n= c.fetchone()\n",
    "print(n[0])  #prints Flight of the Swingodon\n"
   ]
  },
  {
   "cell_type": "code",
   "execution_count": 22,
   "id": "ee7798de",
   "metadata": {},
   "outputs": [
    {
     "name": "stdout",
     "output_type": "stream",
     "text": [
      "Theresaur Food Stop\n"
     ]
    }
   ],
   "source": [
    "#c.execute (\"SELECT DISTINCT type FROM attraction\")\n",
    "#m=c.fetchall()\n",
    "#print(m)  #prints 'Fast Food'\n",
    "c.execute (\"SELECT AttractionID FROM attraction WHERE type='Fast Food'\")\n",
    "\n",
    "m=c.fetchall()\n",
    "#print(m)\n",
    "\n",
    "c.execute (\"SELECT attraction FROM checkin GROUP BY attraction ORDER BY COUNT(attraction)\")\n",
    "\n",
    "b=c.fetchall()\n",
    "#print(b)\n",
    "\n",
    "for x in range(len(b)):\n",
    "    if b[x] in m:\n",
    "        ans= b[x]\n",
    "        break\n",
    "\n",
    "#print(ans) #prints (35,)\n",
    "c.execute (\"SELECT Name FROM attraction WHERE AttractionID=35\")\n",
    "\n",
    "m=c.fetchone()\n",
    "print(m[0])   #prints Theresaur Food Shop\n"
   ]
  }
 ],
 "metadata": {
  "kernelspec": {
   "display_name": "Python 3 (ipykernel)",
   "language": "python",
   "name": "python3"
  },
  "language_info": {
   "codemirror_mode": {
    "name": "ipython",
    "version": 3
   },
   "file_extension": ".py",
   "mimetype": "text/x-python",
   "name": "python",
   "nbconvert_exporter": "python",
   "pygments_lexer": "ipython3",
   "version": "3.11.5"
  }
 },
 "nbformat": 4,
 "nbformat_minor": 5
}
