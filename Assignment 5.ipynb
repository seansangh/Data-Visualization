{
 "cells": [
  {
   "cell_type": "code",
   "execution_count": null,
   "id": "a34913d8",
   "metadata": {},
   "outputs": [],
   "source": [
    "import sqlite3\n",
    "import pandas as pd\n",
    "import numpy as np\n",
    "import geopandas as gpd\n",
    "import pysal as ps\n",
    "import libpysal as lib\n",
    "import esda\n",
    "import matplotlib.pyplot as plt\n",
    "%matplotlib inline\n",
    "\n",
    "db_filename='dinofunworld.db'\n",
    "conn= sqlite3.connect(db_filename)\n",
    "c= conn.cursor()"
   ]
  },
  {
   "cell_type": "code",
   "execution_count": null,
   "id": "7ca93c59",
   "metadata": {},
   "outputs": [],
   "source": [
    "### TEST FUNCTION: test_question1\n",
    "# DO NOT MODIFY OR REMOVE THE ABOVE LINE\n",
    "# your code here\n",
    "\n",
    "myMap = lib.examples.get_path('usjoin.csv')\n",
    "fMap = lib.io.open(myMap)\n",
    "pC = gpd.read_file(lib.examples.get_path(\"us48.shp\"))\n",
    "pC['per_cap'] = np.array(fMap.by_col(\"2009\"))\n",
    "pC.plot(column = \"per_cap\", figsize=(15, 7), legend = True)\n",
    "\n",
    "# show the plot in Jupyter Notebook.\n",
    "plt.title('Per Capita Income of US States on Choropleth Map')\n",
    "plt.xlabel('US Income')\n",
    "plt.show()"
   ]
  },
  {
   "cell_type": "code",
   "execution_count": null,
   "id": "c9140550",
   "metadata": {},
   "outputs": [],
   "source": [
    "### TEST FUNCTION: test_question2\n",
    "# DO NOT MODIFY OR REMOVE THE ABOVE \n",
    "# your code here\n",
    "\n",
    "pC['centroids'] = pC.centroid\n",
    "cL = list(pC['centroids'])\n",
    "dV = list(pC['per_cap'])\n",
    "x= []\n",
    "y= []\n",
    "for i in range(0, len(cL)):\n",
    "  x.append(cL[i].x)\n",
    "  y.append(cL[i].y)\n",
    "df = pd.DataFrame({'x': x, 'y': y,'data': dV})\n",
    "mV = pC.plot(color='white', edgecolor='black', figsize = (15, 7))\n",
    "df.plot(kind='scatter', x='x', y='y', s = df['data'] * 0.005, ax = mV, legend= True)\n",
    "\n",
    "# Show the plot in the notebook.\n",
    "plt.title('Proportional Symbol Map')\n",
    "plt.xlabel('US Income')\n",
    "plt.show()\n"
   ]
  },
  {
   "cell_type": "code",
   "execution_count": null,
   "id": "a12317bd",
   "metadata": {},
   "outputs": [],
   "source": [
    "### TEST FUNCTION: test_question3\n",
    "# DO NOT MODIFY OR REMOVE THE ABOVE \n",
    "# your code here\n",
    "\n",
    "\n",
    "xValue = pC['per_cap']\n",
    "yValue = lib.weights.Rook.from_shapefile(lib.examples.get_path(\"us48.shp\"))\n",
    "moran = esda.Moran(xValue, yValue, two_tailed = False)\n",
    "final = round(moran.I, 4)\n",
    "\n",
    "print (final)"
   ]
  }
 ],
 "metadata": {
  "kernelspec": {
   "display_name": "Python 3 (ipykernel)",
   "language": "python",
   "name": "python3"
  },
  "language_info": {
   "codemirror_mode": {
    "name": "ipython",
    "version": 3
   },
   "file_extension": ".py",
   "mimetype": "text/x-python",
   "name": "python",
   "nbconvert_exporter": "python",
   "pygments_lexer": "ipython3",
   "version": "3.11.5"
  }
 },
 "nbformat": 4,
 "nbformat_minor": 5
}
